{
 "cells": [
  {
   "cell_type": "code",
   "execution_count": 104,
   "metadata": {},
   "outputs": [],
   "source": [
    "#import\n",
    "import random\n",
    "import numpy as np\n",
    "import pandas as pd\n",
    "import seaborn as sns\n",
    "import matplotlib.pyplot as plt\n",
    "\n",
    "from sklearn.svm import SVR\n",
    "from sklearn import linear_model\n",
    "from sklearn.manifold import TSNE\n",
    "from sklearn.metrics import r2_score\n",
    "from sklearn.decomposition import PCA\n",
    "from sklearn.linear_model import Ridge\n",
    "from sklearn.linear_model import Lasso\n",
    "from sklearn.metrics import mean_squared_error\n",
    "from sklearn.model_selection import GridSearchCV\n",
    "from sklearn.neighbors import KNeighborsRegressor\n",
    "from sklearn.ensemble import RandomForestRegressor\n",
    "from sklearn.model_selection import train_test_split\n",
    "\n",
    "from torch.utils.tensorboard import SummaryWriter\n",
    "#from tensorflow.summary import FileWriter\n"
   ]
  },
  {
   "cell_type": "code",
   "execution_count": null,
   "metadata": {},
   "outputs": [],
   "source": [
    "seed = 42\n",
    "np.random.seed(seed)\n",
    "random.seed(seed)\n",
    "pca_t= True"
   ]
  },
  {
   "cell_type": "code",
   "execution_count": 105,
   "metadata": {},
   "outputs": [],
   "source": [
    "df= pd.read_csv('ml-25m/dataset.csv')"
   ]
  },
  {
   "cell_type": "markdown",
   "metadata": {},
   "source": [
    "### Data Preprocessing"
   ]
  },
  {
   "cell_type": "code",
   "execution_count": 106,
   "metadata": {},
   "outputs": [
    {
     "name": "stdout",
     "output_type": "stream",
     "text": [
      "Number of train set:  9946\n",
      "Number of validation set:  1106\n",
      "Numebr of test set:  2764\n"
     ]
    }
   ],
   "source": [
    "#split data and labels \n",
    "X = df.drop(['rating'], axis=1)\n",
    "y = df['rating']\n",
    "\n",
    "X_train_val, X_test, y_train_val, y_test = train_test_split(X, y, test_size=0.20, random_state=42)\n",
    "X_train, X_val, y_train, y_val = train_test_split(X_train_val, y_train_val, test_size=0.1, random_state=42)\n",
    "\n",
    "#count the numebr of x_train x_val and x_test\n",
    "print(\"Number of train set: \", X_train.shape[0])\n",
    "print(\"Number of validation set: \", X_val.shape[0])\n",
    "print(\"Numebr of test set: \", X_test.shape[0])"
   ]
  },
  {
   "cell_type": "code",
   "execution_count": 107,
   "metadata": {},
   "outputs": [
    {
     "name": "stdout",
     "output_type": "stream",
     "text": [
      "PCA is applied\n"
     ]
    }
   ],
   "source": [
    "if pca_t == True:\n",
    "    pca = PCA(n_components=0.95)\n",
    "    pca.fit(X_train)\n",
    "    X_train = pca.transform(X_train)\n",
    "    X_val = pca.transform(X_val)\n",
    "    X_test = pca.transform(X_test)\n",
    "    print (\"PCA is applied\")\n",
    "else:\n",
    "    print (\"PCA is not applied\")"
   ]
  },
  {
   "cell_type": "markdown",
   "metadata": {},
   "source": [
    "### Regressione Lineare:"
   ]
  },
  {
   "cell_type": "markdown",
   "metadata": {},
   "source": [
    "**Senza PCA:**\n",
    "- Mean Squared Error: 0.00544\n",
    "- R2-Square: 0.97543\n",
    "\n",
    "**Con PCA:**\n",
    "- Mean Squared Error: 0.00643\n",
    "- R2-Square:  0.97096\n"
   ]
  },
  {
   "cell_type": "code",
   "execution_count": 68,
   "metadata": {},
   "outputs": [
    {
     "name": "stdout",
     "output_type": "stream",
     "text": [
      "NO PCA\n"
     ]
    },
    {
     "name": "stdout",
     "output_type": "stream",
     "text": [
      "Mean Square Error: 0.00544540691904858\n",
      "R2-square: 0.9754341910082425\n"
     ]
    }
   ],
   "source": [
    "log_name = f\"linear_regression\"\n",
    "if pca_t == True:\n",
    "    writer = SummaryWriter(f\"risultati/Machine_Learning_trad/pca/Linear_Regression/{log_name}\")\n",
    "    print(\"PCA\")\n",
    "else:\n",
    "    writer = SummaryWriter(f\"risultati/Machine_Learning_trad/no_pca/Linear_Regression/{log_name}\")\n",
    "    print(\"NO PCA\")\n",
    "\n",
    "lin_regr_model = linear_model.LinearRegression()\n",
    "lin_regr_model.fit(X_train, y_train)\n",
    "y_pred = lin_regr_model.predict(X_test)\n",
    "\n",
    "# Compute the RSS\n",
    "mse = mean_squared_error(y_test, y_pred) \n",
    "\n",
    "writer.add_scalar('Loss', mse)\n",
    "writer.flush()\n",
    "\n",
    "# Compute the R-square index\n",
    "rsquare = r2_score(y_test, y_pred) \n",
    "\n",
    "print('Mean Square Error:', mse)\n",
    "print('R2-square:', rsquare)"
   ]
  },
  {
   "cell_type": "markdown",
   "metadata": {},
   "source": [
    "### Ridge Regression"
   ]
  },
  {
   "cell_type": "markdown",
   "metadata": {},
   "source": [
    "**no PCA**\n",
    "- MSE: 0.00531\n",
    "- R2-square: 0.97600\n",
    "\n",
    "**PCA**\n",
    "- Mean Squared Error: 0.00639\n",
    "- R2- Squared: 0.97114"
   ]
  },
  {
   "cell_type": "code",
   "execution_count": 69,
   "metadata": {},
   "outputs": [
    {
     "name": "stdout",
     "output_type": "stream",
     "text": [
      "Miglior alpha trovato: 3\n"
     ]
    }
   ],
   "source": [
    "# Creazione del modello Ridge\n",
    "ridge_model = Ridge()\n",
    "\n",
    "# Definisci i parametri da cercare con la grid search\n",
    "param_grid= {'alpha':[0.0001, 0.001, 0.1, 0.5, 1, 2, 3, 4, 5, 6, 10, 20]}\n",
    "\n",
    "# Creazione dell'oggetto di Grid Search con cross-validation\n",
    "grid_search = GridSearchCV(ridge_model, param_grid, cv=5, scoring='neg_mean_squared_error', return_train_score=True)\n",
    "\n",
    "# Addestramento del modello sulla grid search\n",
    "grid_search.fit(X_train, y_train)\n",
    "\n",
    "# Estrai il miglior valore di alpha trovato\n",
    "best_alpha = grid_search.best_params_['alpha']\n",
    "\n",
    "print(\"Miglior alpha trovato:\", best_alpha)"
   ]
  },
  {
   "cell_type": "code",
   "execution_count": 70,
   "metadata": {},
   "outputs": [
    {
     "name": "stdout",
     "output_type": "stream",
     "text": [
      "NO PCA\n"
     ]
    }
   ],
   "source": [
    "if pca_t == True:\n",
    "    writer = SummaryWriter(f\"tradML/risultati_cv/pca/Ridge_Regression/\")\n",
    "    print(\"PCA\")\n",
    "else:\n",
    "    writer = SummaryWriter(f\"tradML/risultati_cv/no_pca/Ridge_Regression/\")\n",
    "    print(\"NO PCA\")"
   ]
  },
  {
   "cell_type": "code",
   "execution_count": 71,
   "metadata": {},
   "outputs": [],
   "source": [
    "results = pd.DataFrame(grid_search.cv_results_)\n",
    "results = results[['param_alpha', 'mean_test_score']]\n",
    "results['mean_test_score'] = results['mean_test_score'] * -1  # Inverti il segno dell'errore quadratico medio\n",
    "\n",
    "# Salva i risultati in TensorBoard\n",
    "if pca_t:\n",
    "    writer = SummaryWriter(f\"risultati/Machine_Learning_trad/pca/Ridge_Regression\")\n",
    "else:\n",
    "    writer = SummaryWriter(f\"risultati/Machine_Learning_trad/no_pca/Ridge_Regression/\")\n",
    "\n",
    "for index, row in results.iterrows():\n",
    "    mse = row['mean_test_score']\n",
    "    alpha = row['param_alpha']\n",
    "    writer.add_hparams({\"alpha\": alpha}, {\"mse\": mse})\n",
    "    writer.flush()\n",
    "\n",
    "writer.close()"
   ]
  },
  {
   "cell_type": "code",
   "execution_count": 72,
   "metadata": {},
   "outputs": [],
   "source": [
    "ridge = pd.DataFrame.from_dict(grid_search.best_params_, orient='index', columns=['value'])\n",
    "ridge = ridge.T\n",
    "if pca_t == True:\n",
    "    ridge.to_csv('tradML/b_params/pca/ridge.csv', index=False)\n",
    "else:\n",
    "    ridge.to_csv('tradML/b_params/no_pca/ridge.csv', index=False)"
   ]
  },
  {
   "cell_type": "code",
   "execution_count": 73,
   "metadata": {},
   "outputs": [
    {
     "name": "stdout",
     "output_type": "stream",
     "text": [
      "MSE su dati di test: 0.005319102663833808\n",
      "R2 su dati di test: 0.9760039861134711\n"
     ]
    }
   ],
   "source": [
    "# Addestra il modello Ridge con il miglior alpha trovato sui dati di addestramento\n",
    "best_ridge_model = Ridge(alpha=best_alpha)\n",
    "best_ridge_model.fit(X_train, y_train)\n",
    "\n",
    "# Calcolo delle predizioni sui dati di test\n",
    "y_test_pred = best_ridge_model.predict(X_test)\n",
    "\n",
    "# Calcolo delle metriche di valutazione\n",
    "mse_test = mean_squared_error(y_test, y_test_pred)\n",
    "r2_test = r2_score(y_test, y_test_pred)\n",
    "\n",
    "# Stampa il miglior valore di alpha e le metriche di valutazione\n",
    "#print(\"Miglior alpha trovato:\", best_alpha)\n",
    "print(\"MSE su dati di test:\", mse_test)\n",
    "print(\"R2 su dati di test:\", r2_test)\n"
   ]
  },
  {
   "cell_type": "markdown",
   "metadata": {},
   "source": [
    "### Lasso Regression"
   ]
  },
  {
   "cell_type": "markdown",
   "metadata": {},
   "source": [
    "**no PCA**\n",
    "- Mean Squared Error: 0.00542\n",
    "- R2- Squared: 0.97553\n",
    "\n",
    "**PCA**\n",
    "- Mean Squared Error:  0.00641\n",
    "- R2- Squared: 0.97106"
   ]
  },
  {
   "cell_type": "code",
   "execution_count": 74,
   "metadata": {},
   "outputs": [],
   "source": [
    "lasso_model= Lasso()"
   ]
  },
  {
   "cell_type": "code",
   "execution_count": 75,
   "metadata": {},
   "outputs": [
    {
     "name": "stderr",
     "output_type": "stream",
     "text": [
      "/opt/anaconda3/lib/python3.9/site-packages/sklearn/linear_model/_coordinate_descent.py:647: ConvergenceWarning: Objective did not converge. You might want to increase the number of iterations, check the scale of the features or consider increasing regularisation. Duality gap: 5.527e+00, tolerance: 1.880e-01\n",
      "  model = cd_fast.enet_coordinate_descent(\n",
      "/opt/anaconda3/lib/python3.9/site-packages/sklearn/linear_model/_coordinate_descent.py:647: ConvergenceWarning: Objective did not converge. You might want to increase the number of iterations, check the scale of the features or consider increasing regularisation. Duality gap: 6.996e+00, tolerance: 1.910e-01\n",
      "  model = cd_fast.enet_coordinate_descent(\n",
      "/opt/anaconda3/lib/python3.9/site-packages/sklearn/linear_model/_coordinate_descent.py:647: ConvergenceWarning: Objective did not converge. You might want to increase the number of iterations, check the scale of the features or consider increasing regularisation. Duality gap: 6.742e+00, tolerance: 1.920e-01\n",
      "  model = cd_fast.enet_coordinate_descent(\n",
      "/opt/anaconda3/lib/python3.9/site-packages/sklearn/linear_model/_coordinate_descent.py:647: ConvergenceWarning: Objective did not converge. You might want to increase the number of iterations, check the scale of the features or consider increasing regularisation. Duality gap: 5.814e+00, tolerance: 1.897e-01\n",
      "  model = cd_fast.enet_coordinate_descent(\n",
      "/opt/anaconda3/lib/python3.9/site-packages/sklearn/linear_model/_coordinate_descent.py:647: ConvergenceWarning: Objective did not converge. You might want to increase the number of iterations, check the scale of the features or consider increasing regularisation. Duality gap: 6.194e+00, tolerance: 1.885e-01\n",
      "  model = cd_fast.enet_coordinate_descent(\n",
      "/opt/anaconda3/lib/python3.9/site-packages/sklearn/linear_model/_coordinate_descent.py:647: ConvergenceWarning: Objective did not converge. You might want to increase the number of iterations, check the scale of the features or consider increasing regularisation. Duality gap: 1.590e+01, tolerance: 1.880e-01\n",
      "  model = cd_fast.enet_coordinate_descent(\n",
      "/opt/anaconda3/lib/python3.9/site-packages/sklearn/linear_model/_coordinate_descent.py:647: ConvergenceWarning: Objective did not converge. You might want to increase the number of iterations, check the scale of the features or consider increasing regularisation. Duality gap: 1.585e+01, tolerance: 1.910e-01\n",
      "  model = cd_fast.enet_coordinate_descent(\n",
      "/opt/anaconda3/lib/python3.9/site-packages/sklearn/linear_model/_coordinate_descent.py:647: ConvergenceWarning: Objective did not converge. You might want to increase the number of iterations, check the scale of the features or consider increasing regularisation. Duality gap: 1.563e+01, tolerance: 1.920e-01\n",
      "  model = cd_fast.enet_coordinate_descent(\n",
      "/opt/anaconda3/lib/python3.9/site-packages/sklearn/linear_model/_coordinate_descent.py:647: ConvergenceWarning: Objective did not converge. You might want to increase the number of iterations, check the scale of the features or consider increasing regularisation. Duality gap: 1.560e+01, tolerance: 1.897e-01\n",
      "  model = cd_fast.enet_coordinate_descent(\n",
      "/opt/anaconda3/lib/python3.9/site-packages/sklearn/linear_model/_coordinate_descent.py:647: ConvergenceWarning: Objective did not converge. You might want to increase the number of iterations, check the scale of the features or consider increasing regularisation. Duality gap: 1.543e+01, tolerance: 1.885e-01\n",
      "  model = cd_fast.enet_coordinate_descent(\n"
     ]
    },
    {
     "name": "stdout",
     "output_type": "stream",
     "text": [
      "Miglior hyperparametro Lasso(alpha=1e-05)\n"
     ]
    },
    {
     "name": "stderr",
     "output_type": "stream",
     "text": [
      "/opt/anaconda3/lib/python3.9/site-packages/sklearn/linear_model/_coordinate_descent.py:647: ConvergenceWarning: Objective did not converge. You might want to increase the number of iterations, check the scale of the features or consider increasing regularisation. Duality gap: 2.046e+01, tolerance: 2.373e-01\n",
      "  model = cd_fast.enet_coordinate_descent(\n"
     ]
    }
   ],
   "source": [
    "param_grid= {'alpha': [1e-1, 1e-2, 1e-3, 1e-4, 1e-5]}\n",
    "grid_search= GridSearchCV(lasso_model, param_grid, cv=5, scoring='neg_mean_squared_error')\n",
    "grid_search.fit(X_train, y_train)\n",
    "best_param= grid_search.best_estimator_\n",
    "print(\"Miglior hyperparametro\", best_param)"
   ]
  },
  {
   "cell_type": "code",
   "execution_count": 76,
   "metadata": {},
   "outputs": [],
   "source": [
    "if pca_t == True:\n",
    "    pd.DataFrame(grid_search.cv_results_).to_csv(f\"tradML/risultati_cv/pca/lasso.csv\")\n",
    "else:\n",
    "    pd.DataFrame(grid_search.cv_results_).to_csv(f\"tradML/risultati_cv/no_pca/lasso.csv\")"
   ]
  },
  {
   "cell_type": "code",
   "execution_count": 77,
   "metadata": {},
   "outputs": [],
   "source": [
    "#take only neg_mean_squared_error and convert to positive\n",
    "results= pd.DataFrame(grid_search.cv_results_)\n",
    "results = results[['mean_test_score', 'param_alpha']]\n",
    "results['mean_test_score']= -1*results['mean_test_score']\n",
    "\n",
    "#save mse to tensorboard\n",
    "if pca_t == True:\n",
    "    writer= SummaryWriter(f'risultati/Machine_Learning_trad/pca/Lasso/')\n",
    "else:\n",
    "    writer= SummaryWriter(f'risultati/Machine_Learning_trad/no_pca/Lasso/')\n",
    "for i, rows in results.iterrows():\n",
    "    mse= rows['mean_test_score']\n",
    "    alpha= rows['param_alpha']\n",
    "    writer.add_hparams({'alpha': alpha}, {'mse': mse})\n",
    "    writer.flush()\n",
    "writer.close()"
   ]
  },
  {
   "cell_type": "code",
   "execution_count": 78,
   "metadata": {},
   "outputs": [],
   "source": [
    "lasso_model= pd.DataFrame.from_dict(grid_search.best_params_, orient='index', columns=['value'])\n",
    "lasso_model= lasso_model.T\n",
    "\n",
    "if pca_t == True:\n",
    "    lasso_model.to_csv('tradML/b_params/pca/lasso.csv', index=False)\n",
    "else:\n",
    "    lasso_model.to_csv('tradML/b_params/no_pca/lasso.csv', index=False)"
   ]
  },
  {
   "cell_type": "code",
   "execution_count": 79,
   "metadata": {},
   "outputs": [
    {
     "name": "stdout",
     "output_type": "stream",
     "text": [
      "Mean squared error:  0.005423553353396875\n",
      "R2 score:  0.9755327787772686\n"
     ]
    },
    {
     "name": "stderr",
     "output_type": "stream",
     "text": [
      "/opt/anaconda3/lib/python3.9/site-packages/sklearn/linear_model/_coordinate_descent.py:647: ConvergenceWarning: Objective did not converge. You might want to increase the number of iterations, check the scale of the features or consider increasing regularisation. Duality gap: 2.046e+01, tolerance: 2.373e-01\n",
      "  model = cd_fast.enet_coordinate_descent(\n"
     ]
    }
   ],
   "source": [
    "lasso_model = Lasso(alpha=best_param.alpha)\n",
    "lasso_model.fit(X_train, y_train)\n",
    "y_pred = lasso_model.predict(X_test)   \n",
    "\n",
    "print(\"Mean squared error: \", mean_squared_error(y_test, y_pred))\n",
    "print(\"R2 score: \", r2_score(y_test, y_pred))\n"
   ]
  },
  {
   "cell_type": "code",
   "execution_count": 80,
   "metadata": {},
   "outputs": [
    {
     "name": "stdout",
     "output_type": "stream",
     "text": [
      "Numero di featurs con coefficiente 0:  146\n"
     ]
    },
    {
     "data": {
      "text/plain": [
       "007           -0.097706\n",
       "1920s          0.379278\n",
       "3d            -0.153728\n",
       "aardman        0.060788\n",
       "afterlife     -0.079177\n",
       "alcoholism     0.206545\n",
       "almodovar      0.083976\n",
       "amnesia        0.062696\n",
       "animation      0.024383\n",
       "arms dealer   -0.073337\n",
       "dtype: float64"
      ]
     },
     "metadata": {},
     "output_type": "display_data"
    }
   ],
   "source": [
    "if pca_t == False:\n",
    "    #print null coefficients and name of lasso without pca\n",
    "    lasso_coeff= pd.DataFrame({'feature': X_train.columns, 'coefficient': lasso_model.coef_})\n",
    "    lasso_coeff= lasso_coeff[lasso_coeff['coefficient']==0]\n",
    "    print(\"Numero di featurs con coefficiente 0: \", lasso_coeff.shape[0])\n",
    "\n",
    "    lasso_coeff= pd.DataFrame({'feature': X_train.columns, 'coefficient': lasso_model.coef_})\n",
    "    lasso_coeff= lasso_coeff[lasso_coeff['coefficient']==0]\n",
    "    X_zero= lasso_coeff['feature'].tolist()\n",
    "    #correlarion between features set to 0 and y\n",
    "    corr= df[X_zero].corrwith(y)\n",
    "    display(corr.head(10))"
   ]
  },
  {
   "cell_type": "markdown",
   "metadata": {},
   "source": [
    "### Random Forest Regressor"
   ]
  },
  {
   "cell_type": "markdown",
   "metadata": {},
   "source": [
    "**no PCA**\n",
    "- Mean Squared Error: 0.01272\n",
    "- R2-socore: 0.94260\n",
    "\n",
    "**PCA**\n",
    "- Mean Squared Error: 0.03801\n",
    "- R2-socore: 0.82850"
   ]
  },
  {
   "cell_type": "code",
   "execution_count": 81,
   "metadata": {},
   "outputs": [
    {
     "name": "stdout",
     "output_type": "stream",
     "text": [
      "Fitting 5 folds for each of 10 candidates, totalling 50 fits\n",
      "[CV] END ...........criterion=squared_error, n_estimators=10; total time=  58.8s\n",
      "[CV] END ...........criterion=squared_error, n_estimators=10; total time= 1.3min\n",
      "[CV] END ...........criterion=squared_error, n_estimators=10; total time= 1.5min\n",
      "[CV] END ...........criterion=squared_error, n_estimators=10; total time= 1.4min\n",
      "[CV] END ...........criterion=squared_error, n_estimators=10; total time= 1.2min\n",
      "[CV] END ...........criterion=squared_error, n_estimators=15; total time= 1.6min\n",
      "[CV] END ...........criterion=squared_error, n_estimators=15; total time= 1.8min\n",
      "[CV] END ...........criterion=squared_error, n_estimators=15; total time= 1.9min\n",
      "[CV] END ...........criterion=squared_error, n_estimators=15; total time= 1.9min\n",
      "[CV] END ...........criterion=squared_error, n_estimators=15; total time= 1.6min\n",
      "[CV] END ...........criterion=squared_error, n_estimators=20; total time= 2.3min\n",
      "[CV] END ...........criterion=squared_error, n_estimators=20; total time= 2.5min\n",
      "[CV] END ...........criterion=squared_error, n_estimators=20; total time= 2.1min\n",
      "[CV] END ...........criterion=squared_error, n_estimators=20; total time= 2.0min\n",
      "[CV] END ...........criterion=squared_error, n_estimators=20; total time= 2.6min\n",
      "[CV] END ...........criterion=squared_error, n_estimators=25; total time= 2.6min\n",
      "[CV] END ...........criterion=squared_error, n_estimators=25; total time= 2.5min\n",
      "[CV] END ...........criterion=squared_error, n_estimators=25; total time= 2.5min\n",
      "[CV] END ...........criterion=squared_error, n_estimators=25; total time= 2.3min\n",
      "[CV] END ...........criterion=squared_error, n_estimators=25; total time= 2.5min\n",
      "[CV] END ...........criterion=squared_error, n_estimators=30; total time= 3.1min\n",
      "[CV] END ...........criterion=squared_error, n_estimators=30; total time= 2.8min\n",
      "[CV] END ...........criterion=squared_error, n_estimators=30; total time= 2.8min\n",
      "[CV] END ...........criterion=squared_error, n_estimators=30; total time= 2.5min\n",
      "[CV] END ...........criterion=squared_error, n_estimators=30; total time= 2.6min\n",
      "[CV] END ............criterion=friedman_mse, n_estimators=10; total time= 1.1min\n",
      "[CV] END ............criterion=friedman_mse, n_estimators=10; total time= 1.1min\n",
      "[CV] END ............criterion=friedman_mse, n_estimators=10; total time= 1.1min\n",
      "[CV] END ............criterion=friedman_mse, n_estimators=10; total time= 1.0min\n",
      "[CV] END ............criterion=friedman_mse, n_estimators=10; total time= 1.0min\n",
      "[CV] END ............criterion=friedman_mse, n_estimators=15; total time= 1.5min\n",
      "[CV] END ............criterion=friedman_mse, n_estimators=15; total time= 1.5min\n",
      "[CV] END ............criterion=friedman_mse, n_estimators=15; total time= 1.5min\n",
      "[CV] END ............criterion=friedman_mse, n_estimators=15; total time= 1.5min\n",
      "[CV] END ............criterion=friedman_mse, n_estimators=15; total time= 1.9min\n",
      "[CV] END ............criterion=friedman_mse, n_estimators=20; total time= 2.6min\n",
      "[CV] END ............criterion=friedman_mse, n_estimators=20; total time= 2.8min\n",
      "[CV] END ............criterion=friedman_mse, n_estimators=20; total time= 2.8min\n",
      "[CV] END ............criterion=friedman_mse, n_estimators=20; total time= 2.7min\n",
      "[CV] END ............criterion=friedman_mse, n_estimators=20; total time= 2.8min\n",
      "[CV] END ............criterion=friedman_mse, n_estimators=25; total time= 3.6min\n",
      "[CV] END ............criterion=friedman_mse, n_estimators=25; total time= 3.5min\n",
      "[CV] END ............criterion=friedman_mse, n_estimators=25; total time= 3.8min\n",
      "[CV] END ............criterion=friedman_mse, n_estimators=25; total time= 3.4min\n",
      "[CV] END ............criterion=friedman_mse, n_estimators=25; total time= 3.5min\n",
      "[CV] END ............criterion=friedman_mse, n_estimators=30; total time= 4.1min\n",
      "[CV] END ............criterion=friedman_mse, n_estimators=30; total time= 4.3min\n",
      "[CV] END ............criterion=friedman_mse, n_estimators=30; total time= 4.1min\n",
      "[CV] END ............criterion=friedman_mse, n_estimators=30; total time= 3.8min\n",
      "[CV] END ............criterion=friedman_mse, n_estimators=30; total time= 3.8min\n"
     ]
    }
   ],
   "source": [
    "rf= RandomForestRegressor()\n",
    "\n",
    "param_grid= {\n",
    "    'n_estimators': [10, 15, 20, 25, 30],\n",
    "    'criterion': ['squared_error', 'friedman_mse'],\n",
    "}\n",
    "\n",
    "grid_search= GridSearchCV(estimator= rf, param_grid= param_grid, cv=5, scoring='neg_mean_squared_error', verbose= 2)\n",
    "grid_search.fit(X_train, y_train)\n",
    "best_param= grid_search.best_estimator_\n",
    "\n"
   ]
  },
  {
   "cell_type": "code",
   "execution_count": 82,
   "metadata": {},
   "outputs": [
    {
     "name": "stdout",
     "output_type": "stream",
     "text": [
      "Miglior hyperparametro RandomForestRegressor(n_estimators=30)\n"
     ]
    }
   ],
   "source": [
    "print(\"Miglior hyperparametro\", best_param)\n"
   ]
  },
  {
   "cell_type": "code",
   "execution_count": 83,
   "metadata": {},
   "outputs": [],
   "source": [
    "if pca_t == True:\n",
    "    pd.DataFrame(grid_search.cv_results_).to_csv(f\"tradML/risultati_cv/pca/random_forest.csv\")\n",
    "else:\n",
    "    pd.DataFrame(grid_search.cv_results_).to_csv(f\"tradML/risultati_cv/no_pca/random_forest.csv\")"
   ]
  },
  {
   "cell_type": "code",
   "execution_count": 84,
   "metadata": {},
   "outputs": [],
   "source": [
    "results= pd.DataFrame(grid_search.cv_results_)\n",
    "results= results[['mean_test_score', 'param_n_estimators', 'param_criterion']]\n",
    "results['mean_test_score']= -1*results['mean_test_score']\n",
    "\n",
    "if pca_t == True:\n",
    "    writer= SummaryWriter(f'risultati//Machine_Learning_trad/pca/Random_Forest/')\n",
    "else:\n",
    "    writer= SummaryWriter(f'risultati//Machine_Learning_trad/no_pca/Random_Forest/')\n",
    "for i, rows in results.iterrows():\n",
    "    mse= rows['mean_test_score']\n",
    "    n_estimators= rows['param_n_estimators']\n",
    "    criterion= rows['param_criterion']\n",
    "    writer.add_hparams({'n_estimators': n_estimators, 'criterion': criterion}, {'mse': mse})\n",
    "    writer.flush()\n",
    "writer.close()"
   ]
  },
  {
   "cell_type": "code",
   "execution_count": 85,
   "metadata": {},
   "outputs": [],
   "source": [
    "rf= pd.DataFrame.from_dict(grid_search.best_params_, orient='index', columns=['value'])\n",
    "rf= rf.T\n",
    "if pca_t == True:\n",
    "    rf.to_csv('tradML/b_params/pca/random_forest.csv', index=False)\n",
    "else:\n",
    "    rf.to_csv('tradML/b_params/no_pca/random_forest.csv', index=False)"
   ]
  },
  {
   "cell_type": "code",
   "execution_count": 86,
   "metadata": {},
   "outputs": [
    {
     "name": "stdout",
     "output_type": "stream",
     "text": [
      "Mean squared error:  0.012343934174509526\n",
      "R2 score:  0.9443129349843314\n"
     ]
    }
   ],
   "source": [
    "rf= RandomForestRegressor(n_estimators= best_param.n_estimators, criterion= best_param.criterion)\n",
    "rf.fit(X_train, y_train)\n",
    "y_pred= rf.predict(X_test)\n",
    "\n",
    "print(\"Mean squared error: \", mean_squared_error(y_test, y_pred))\n",
    "print(\"R2 score: \", r2_score(y_test, y_pred))"
   ]
  },
  {
   "cell_type": "code",
   "execution_count": 87,
   "metadata": {},
   "outputs": [
    {
     "data": {
      "image/png": "[encoded data removed]",
      "text/plain": [
       "<Figure size 1000x1000 with 1 Axes>"
      ]
     },
     "metadata": {},
     "output_type": "display_data"
    }
   ],
   "source": [
    "#stampare le 10 features più importanti con random forest\n",
    "if pca_t == False:\n",
    "    feature_importance = rf.feature_importances_\n",
    "    importance_df= pd.DataFrame({'feature': X_train.columns, 'importance': feature_importance})\n",
    "    importance_df= importance_df.sort_values(by='importance', ascending=False)\n",
    "\n",
    "    plt.figure(figsize=(10, 10))\n",
    "    sns.barplot(x='importance', y='feature', data=importance_df.head(10), palette='Greens_r')\n",
    "    plt.title('Feature importance')\n",
    "    plt.xticks(rotation=45)\n",
    "    plt.show()\n",
    "else:\n",
    "    print(\"PCA is applied, no feature importance to show\")"
   ]
  },
  {
   "cell_type": "markdown",
   "metadata": {},
   "source": [
    "### KNN Regressor"
   ]
  },
  {
   "cell_type": "markdown",
   "metadata": {},
   "source": [
    "**no PCA**\n",
    "- Mean Squared Error: 0.04049\n",
    "- R2-socore: 0.81729\n",
    "  \n",
    "**PCA**\n",
    "- Mean Squared Error: 0.04015\n",
    "- R2-socore: 0.81883"
   ]
  },
  {
   "cell_type": "code",
   "execution_count": 88,
   "metadata": {},
   "outputs": [
    {
     "name": "stdout",
     "output_type": "stream",
     "text": [
      "Fitting 5 folds for each of 16 candidates, totalling 80 fits\n",
      "[CV] END .....................n_neighbors=7, weights=uniform; total time=   1.6s\n",
      "[CV] END .....................n_neighbors=7, weights=uniform; total time=   1.8s\n",
      "[CV] END .....................n_neighbors=7, weights=uniform; total time=   1.6s\n",
      "[CV] END .....................n_neighbors=7, weights=uniform; total time=   1.3s\n",
      "[CV] END .....................n_neighbors=7, weights=uniform; total time=   1.7s\n",
      "[CV] END ....................n_neighbors=7, weights=distance; total time=   1.8s\n",
      "[CV] END ....................n_neighbors=7, weights=distance; total time=   1.1s\n",
      "[CV] END ....................n_neighbors=7, weights=distance; total time=   1.2s\n",
      "[CV] END ....................n_neighbors=7, weights=distance; total time=   1.2s\n",
      "[CV] END ....................n_neighbors=7, weights=distance; total time=   1.2s\n",
      "[CV] END .....................n_neighbors=9, weights=uniform; total time=   1.2s\n",
      "[CV] END .....................n_neighbors=9, weights=uniform; total time=   1.7s\n",
      "[CV] END .....................n_neighbors=9, weights=uniform; total time=   1.7s\n",
      "[CV] END .....................n_neighbors=9, weights=uniform; total time=   1.6s\n",
      "[CV] END .....................n_neighbors=9, weights=uniform; total time=   1.3s\n",
      "[CV] END ....................n_neighbors=9, weights=distance; total time=   1.4s\n",
      "[CV] END ....................n_neighbors=9, weights=distance; total time=   1.4s\n",
      "[CV] END ....................n_neighbors=9, weights=distance; total time=   1.2s\n",
      "[CV] END ....................n_neighbors=9, weights=distance; total time=   1.2s\n",
      "[CV] END ....................n_neighbors=9, weights=distance; total time=   1.6s\n",
      "[CV] END ....................n_neighbors=11, weights=uniform; total time=   2.0s\n",
      "[CV] END ....................n_neighbors=11, weights=uniform; total time=   1.2s\n",
      "[CV] END ....................n_neighbors=11, weights=uniform; total time=   1.3s\n",
      "[CV] END ....................n_neighbors=11, weights=uniform; total time=   1.3s\n",
      "[CV] END ....................n_neighbors=11, weights=uniform; total time=   1.1s\n",
      "[CV] END ...................n_neighbors=11, weights=distance; total time=   1.3s\n",
      "[CV] END ...................n_neighbors=11, weights=distance; total time=   1.2s\n",
      "[CV] END ...................n_neighbors=11, weights=distance; total time=   1.2s\n",
      "[CV] END ...................n_neighbors=11, weights=distance; total time=   1.2s\n",
      "[CV] END ...................n_neighbors=11, weights=distance; total time=   1.2s\n",
      "[CV] END ....................n_neighbors=13, weights=uniform; total time=   1.7s\n",
      "[CV] END ....................n_neighbors=13, weights=uniform; total time=   1.1s\n",
      "[CV] END ....................n_neighbors=13, weights=uniform; total time=   1.7s\n",
      "[CV] END ....................n_neighbors=13, weights=uniform; total time=   1.2s\n",
      "[CV] END ....................n_neighbors=13, weights=uniform; total time=   1.4s\n",
      "[CV] END ...................n_neighbors=13, weights=distance; total time=   1.3s\n",
      "[CV] END ...................n_neighbors=13, weights=distance; total time=   1.4s\n",
      "[CV] END ...................n_neighbors=13, weights=distance; total time=   1.4s\n",
      "[CV] END ...................n_neighbors=13, weights=distance; total time=   1.0s\n",
      "[CV] END ...................n_neighbors=13, weights=distance; total time=   1.2s\n",
      "[CV] END ....................n_neighbors=15, weights=uniform; total time=   1.6s\n",
      "[CV] END ....................n_neighbors=15, weights=uniform; total time=   1.2s\n",
      "[CV] END ....................n_neighbors=15, weights=uniform; total time=   1.9s\n",
      "[CV] END ....................n_neighbors=15, weights=uniform; total time=   1.0s\n",
      "[CV] END ....................n_neighbors=15, weights=uniform; total time=   0.9s\n",
      "[CV] END ...................n_neighbors=15, weights=distance; total time=   0.9s\n",
      "[CV] END ...................n_neighbors=15, weights=distance; total time=   2.1s\n",
      "[CV] END ...................n_neighbors=15, weights=distance; total time=   3.8s\n",
      "[CV] END ...................n_neighbors=15, weights=distance; total time=   2.4s\n",
      "[CV] END ...................n_neighbors=15, weights=distance; total time=   1.4s\n",
      "[CV] END ....................n_neighbors=17, weights=uniform; total time=   1.2s\n",
      "[CV] END ....................n_neighbors=17, weights=uniform; total time=   3.8s\n",
      "[CV] END ....................n_neighbors=17, weights=uniform; total time=   3.2s\n",
      "[CV] END ....................n_neighbors=17, weights=uniform; total time=   2.1s\n",
      "[CV] END ....................n_neighbors=17, weights=uniform; total time=   1.7s\n",
      "[CV] END ...................n_neighbors=17, weights=distance; total time=   1.2s\n",
      "[CV] END ...................n_neighbors=17, weights=distance; total time=   1.2s\n",
      "[CV] END ...................n_neighbors=17, weights=distance; total time=   1.2s\n",
      "[CV] END ...................n_neighbors=17, weights=distance; total time=   1.3s\n",
      "[CV] END ...................n_neighbors=17, weights=distance; total time=   1.2s\n",
      "[CV] END ....................n_neighbors=19, weights=uniform; total time=   1.3s\n",
      "[CV] END ....................n_neighbors=19, weights=uniform; total time=   1.2s\n",
      "[CV] END ....................n_neighbors=19, weights=uniform; total time=   1.2s\n",
      "[CV] END ....................n_neighbors=19, weights=uniform; total time=   1.2s\n",
      "[CV] END ....................n_neighbors=19, weights=uniform; total time=   1.1s\n",
      "[CV] END ...................n_neighbors=19, weights=distance; total time=   1.2s\n",
      "[CV] END ...................n_neighbors=19, weights=distance; total time=   1.2s\n",
      "[CV] END ...................n_neighbors=19, weights=distance; total time=   1.2s\n",
      "[CV] END ...................n_neighbors=19, weights=distance; total time=   1.3s\n",
      "[CV] END ...................n_neighbors=19, weights=distance; total time=   1.2s\n",
      "[CV] END ....................n_neighbors=20, weights=uniform; total time=   1.2s\n",
      "[CV] END ....................n_neighbors=20, weights=uniform; total time=   1.1s\n",
      "[CV] END ....................n_neighbors=20, weights=uniform; total time=   1.2s\n",
      "[CV] END ....................n_neighbors=20, weights=uniform; total time=   1.2s\n",
      "[CV] END ....................n_neighbors=20, weights=uniform; total time=   1.3s\n",
      "[CV] END ...................n_neighbors=20, weights=distance; total time=   1.2s\n",
      "[CV] END ...................n_neighbors=20, weights=distance; total time=   1.2s\n",
      "[CV] END ...................n_neighbors=20, weights=distance; total time=   1.2s\n",
      "[CV] END ...................n_neighbors=20, weights=distance; total time=   1.2s\n",
      "[CV] END ...................n_neighbors=20, weights=distance; total time=   1.2s\n",
      "Miglior hyperparametro {'n_neighbors': 11, 'weights': 'distance'}\n"
     ]
    }
   ],
   "source": [
    "knn= KNeighborsRegressor()\n",
    "\n",
    "param_grid= {\n",
    "    'n_neighbors': [7, 9, 11, 13, 15, 17, 19, 20],\n",
    "    'weights': ['uniform', 'distance'],\n",
    "}\n",
    "\n",
    "grid_search= GridSearchCV(estimator= knn, param_grid= param_grid, cv=5, scoring='neg_mean_squared_error', verbose= 2)\n",
    "grid_search.fit(X_train, y_train)\n",
    "best_param= grid_search.best_params_\n",
    "print(\"Miglior hyperparametro\", best_param)"
   ]
  },
  {
   "cell_type": "code",
   "execution_count": 89,
   "metadata": {},
   "outputs": [],
   "source": [
    "if pca_t == True:\n",
    "    pd.DataFrame(grid_search.cv_results_).to_csv(f\"tradML/risultati_cv/pca/knn.csv\")\n",
    "else:\n",
    "    pd.DataFrame(grid_search.cv_results_).to_csv(f\"tradML/risultati_cv/no_pca/knn.csv\")"
   ]
  },
  {
   "cell_type": "code",
   "execution_count": 90,
   "metadata": {},
   "outputs": [],
   "source": [
    "results= pd.DataFrame(grid_search.cv_results_)\n",
    "results= results[['mean_test_score', 'param_n_neighbors', 'param_weights']]\n",
    "results['mean_test_score']= -1*results['mean_test_score']\n",
    "\n",
    "if pca_t == True:\n",
    "    writer= SummaryWriter(f'risultati//Machine_Learning_trad/pca/KNN/')\n",
    "else:\n",
    "    writer= SummaryWriter(f'risultati//Machine_Learning_trad/no_pca/KNN/')\n",
    "\n",
    "for i, rows in results.iterrows():\n",
    "    mse= rows['mean_test_score']\n",
    "    n_neighbors= rows['param_n_neighbors']\n",
    "    weights= rows['param_weights']\n",
    "    writer.add_hparams({'n_neighbors': n_neighbors, 'weights': weights}, {'mse': mse})\n",
    "    writer.flush()\n",
    "\n",
    "writer.close()  "
   ]
  },
  {
   "cell_type": "code",
   "execution_count": 91,
   "metadata": {},
   "outputs": [],
   "source": [
    "knn= pd.DataFrame.from_dict(grid_search.best_params_, orient='index', columns=['value'])\n",
    "knn= knn.T\n",
    "if pca_t == True:\n",
    "    knn.to_csv('tradML/b_params/pca/knn.csv', index=False)\n",
    "else:\n",
    "    knn.to_csv('tradML/b_params/no_pca/knn.csv', index=False)"
   ]
  },
  {
   "cell_type": "code",
   "execution_count": 92,
   "metadata": {},
   "outputs": [
    {
     "name": "stdout",
     "output_type": "stream",
     "text": [
      "Mean squared error:  0.04049981997445227\n",
      "R2 score:  0.8172935730087196\n"
     ]
    }
   ],
   "source": [
    "knn= KNeighborsRegressor(n_neighbors= best_param['n_neighbors'], weights= best_param['weights'])\n",
    "knn.fit(X_train, y_train)\n",
    "y_pred= knn.predict(X_test)\n",
    "\n",
    "print(\"Mean squared error: \", mean_squared_error(y_test, y_pred))\n",
    "print(\"R2 score: \", r2_score(y_test, y_pred))"
   ]
  },
  {
   "cell_type": "markdown",
   "metadata": {},
   "source": [
    "### SVR"
   ]
  },
  {
   "cell_type": "markdown",
   "metadata": {},
   "source": [
    "**no PCA:**\n",
    "- MSE: \n",
    "- R2-Square: \n",
    "\n",
    "**PCA:**\n",
    "- MSE: 0.00659\n",
    "- R2-Square: 0.97022"
   ]
  },
  {
   "cell_type": "code",
   "execution_count": 108,
   "metadata": {},
   "outputs": [
    {
     "name": "stdout",
     "output_type": "stream",
     "text": [
      "Fitting 5 folds for each of 48 candidates, totalling 240 fits\n"
     ]
    },
    {
     "name": "stdout",
     "output_type": "stream",
     "text": [
      "[CV] END ................C=0.001, epsilon=0.001, kernel=poly; total time=  46.8s\n",
      "[CV] END ................C=0.001, epsilon=0.001, kernel=poly; total time=  53.9s\n",
      "[CV] END ................C=0.001, epsilon=0.001, kernel=poly; total time=  45.6s\n",
      "[CV] END ................C=0.001, epsilon=0.001, kernel=poly; total time=  35.5s\n",
      "[CV] END ................C=0.001, epsilon=0.001, kernel=poly; total time=  34.7s\n",
      "[CV] END .................C=0.001, epsilon=0.001, kernel=rbf; total time=  36.5s\n",
      "[CV] END .................C=0.001, epsilon=0.001, kernel=rbf; total time=  44.4s\n",
      "[CV] END .................C=0.001, epsilon=0.001, kernel=rbf; total time=  36.5s\n",
      "[CV] END .................C=0.001, epsilon=0.001, kernel=rbf; total time=  42.9s\n",
      "[CV] END .................C=0.001, epsilon=0.001, kernel=rbf; total time=  43.9s\n",
      "[CV] END .............C=0.001, epsilon=0.001, kernel=sigmoid; total time=  39.8s\n",
      "[CV] END .............C=0.001, epsilon=0.001, kernel=sigmoid; total time=  44.8s\n",
      "[CV] END .............C=0.001, epsilon=0.001, kernel=sigmoid; total time=  49.4s\n",
      "[CV] END .............C=0.001, epsilon=0.001, kernel=sigmoid; total time=  40.2s\n",
      "[CV] END .............C=0.001, epsilon=0.001, kernel=sigmoid; total time=  38.2s\n",
      "[CV] END .................C=0.001, epsilon=0.01, kernel=poly; total time=  38.3s\n",
      "[CV] END .................C=0.001, epsilon=0.01, kernel=poly; total time=  34.1s\n",
      "[CV] END .................C=0.001, epsilon=0.01, kernel=poly; total time=  32.8s\n",
      "[CV] END .................C=0.001, epsilon=0.01, kernel=poly; total time=  32.8s\n",
      "[CV] END .................C=0.001, epsilon=0.01, kernel=poly; total time=  37.1s\n",
      "[CV] END ..................C=0.001, epsilon=0.01, kernel=rbf; total time=  31.3s\n",
      "[CV] END ..................C=0.001, epsilon=0.01, kernel=rbf; total time=  31.3s\n",
      "[CV] END ..................C=0.001, epsilon=0.01, kernel=rbf; total time=  39.6s\n",
      "[CV] END ..................C=0.001, epsilon=0.01, kernel=rbf; total time=  38.1s\n",
      "[CV] END ..................C=0.001, epsilon=0.01, kernel=rbf; total time=  36.6s\n",
      "[CV] END ..............C=0.001, epsilon=0.01, kernel=sigmoid; total time=  34.6s\n",
      "[CV] END ..............C=0.001, epsilon=0.01, kernel=sigmoid; total time=  29.1s\n",
      "[CV] END ..............C=0.001, epsilon=0.01, kernel=sigmoid; total time=  30.3s\n",
      "[CV] END ..............C=0.001, epsilon=0.01, kernel=sigmoid; total time=  33.2s\n",
      "[CV] END ..............C=0.001, epsilon=0.01, kernel=sigmoid; total time=  32.7s\n",
      "[CV] END ..................C=0.001, epsilon=0.1, kernel=poly; total time=  30.4s\n",
      "[CV] END ..................C=0.001, epsilon=0.1, kernel=poly; total time=  31.1s\n",
      "[CV] END ..................C=0.001, epsilon=0.1, kernel=poly; total time=  29.6s\n",
      "[CV] END ..................C=0.001, epsilon=0.1, kernel=poly; total time=  23.9s\n",
      "[CV] END ..................C=0.001, epsilon=0.1, kernel=poly; total time=  21.2s\n",
      "[CV] END ...................C=0.001, epsilon=0.1, kernel=rbf; total time=  21.9s\n",
      "[CV] END ...................C=0.001, epsilon=0.1, kernel=rbf; total time=  25.9s\n",
      "[CV] END ...................C=0.001, epsilon=0.1, kernel=rbf; total time=  22.5s\n",
      "[CV] END ...................C=0.001, epsilon=0.1, kernel=rbf; total time=  22.5s\n",
      "[CV] END ...................C=0.001, epsilon=0.1, kernel=rbf; total time=  22.7s\n",
      "[CV] END ...............C=0.001, epsilon=0.1, kernel=sigmoid; total time=  20.4s\n",
      "[CV] END ...............C=0.001, epsilon=0.1, kernel=sigmoid; total time=  21.3s\n",
      "[CV] END ...............C=0.001, epsilon=0.1, kernel=sigmoid; total time=  19.1s\n",
      "[CV] END ...............C=0.001, epsilon=0.1, kernel=sigmoid; total time=  18.8s\n",
      "[CV] END ...............C=0.001, epsilon=0.1, kernel=sigmoid; total time=  19.1s\n",
      "[CV] END ....................C=0.001, epsilon=1, kernel=poly; total time=   0.8s\n",
      "[CV] END ....................C=0.001, epsilon=1, kernel=poly; total time=   0.9s\n",
      "[CV] END ....................C=0.001, epsilon=1, kernel=poly; total time=   0.9s\n",
      "[CV] END ....................C=0.001, epsilon=1, kernel=poly; total time=   0.9s\n",
      "[CV] END ....................C=0.001, epsilon=1, kernel=poly; total time=   0.9s\n",
      "[CV] END .....................C=0.001, epsilon=1, kernel=rbf; total time=   1.0s\n",
      "[CV] END .....................C=0.001, epsilon=1, kernel=rbf; total time=   1.1s\n",
      "[CV] END .....................C=0.001, epsilon=1, kernel=rbf; total time=   1.1s\n",
      "[CV] END .....................C=0.001, epsilon=1, kernel=rbf; total time=   1.1s\n",
      "[CV] END .....................C=0.001, epsilon=1, kernel=rbf; total time=   1.0s\n",
      "[CV] END .................C=0.001, epsilon=1, kernel=sigmoid; total time=   0.8s\n",
      "[CV] END .................C=0.001, epsilon=1, kernel=sigmoid; total time=   0.8s\n",
      "[CV] END .................C=0.001, epsilon=1, kernel=sigmoid; total time=   1.0s\n",
      "[CV] END .................C=0.001, epsilon=1, kernel=sigmoid; total time=   0.8s\n",
      "[CV] END .................C=0.001, epsilon=1, kernel=sigmoid; total time=   0.7s\n",
      "[CV] END .................C=0.01, epsilon=0.001, kernel=poly; total time=  26.7s\n",
      "[CV] END .................C=0.01, epsilon=0.001, kernel=poly; total time=  27.2s\n",
      "[CV] END .................C=0.01, epsilon=0.001, kernel=poly; total time=  26.8s\n",
      "[CV] END .................C=0.01, epsilon=0.001, kernel=poly; total time=  27.4s\n",
      "[CV] END .................C=0.01, epsilon=0.001, kernel=poly; total time=  26.8s\n",
      "[CV] END ..................C=0.01, epsilon=0.001, kernel=rbf; total time=  29.7s\n",
      "[CV] END ..................C=0.01, epsilon=0.001, kernel=rbf; total time=  29.6s\n",
      "[CV] END ..................C=0.01, epsilon=0.001, kernel=rbf; total time=  30.8s\n",
      "[CV] END ..................C=0.01, epsilon=0.001, kernel=rbf; total time=  30.1s\n",
      "[CV] END ..................C=0.01, epsilon=0.001, kernel=rbf; total time=  30.0s\n",
      "[CV] END ..............C=0.01, epsilon=0.001, kernel=sigmoid; total time=  28.7s\n",
      "[CV] END ..............C=0.01, epsilon=0.001, kernel=sigmoid; total time=  27.5s\n",
      "[CV] END ..............C=0.01, epsilon=0.001, kernel=sigmoid; total time=  27.9s\n",
      "[CV] END ..............C=0.01, epsilon=0.001, kernel=sigmoid; total time=  27.7s\n",
      "[CV] END ..............C=0.01, epsilon=0.001, kernel=sigmoid; total time=  27.9s\n",
      "[CV] END ..................C=0.01, epsilon=0.01, kernel=poly; total time=  25.7s\n",
      "[CV] END ..................C=0.01, epsilon=0.01, kernel=poly; total time=  25.8s\n",
      "[CV] END ..................C=0.01, epsilon=0.01, kernel=poly; total time=  25.7s\n",
      "[CV] END ..................C=0.01, epsilon=0.01, kernel=poly; total time=  26.2s\n",
      "[CV] END ..................C=0.01, epsilon=0.01, kernel=poly; total time=  25.8s\n",
      "[CV] END ...................C=0.01, epsilon=0.01, kernel=rbf; total time=  28.3s\n",
      "[CV] END ...................C=0.01, epsilon=0.01, kernel=rbf; total time=  28.0s\n",
      "[CV] END ...................C=0.01, epsilon=0.01, kernel=rbf; total time=  28.3s\n",
      "[CV] END ...................C=0.01, epsilon=0.01, kernel=rbf; total time=  28.0s\n",
      "[CV] END ...................C=0.01, epsilon=0.01, kernel=rbf; total time=  28.0s\n",
      "[CV] END ...............C=0.01, epsilon=0.01, kernel=sigmoid; total time=  26.1s\n",
      "[CV] END ...............C=0.01, epsilon=0.01, kernel=sigmoid; total time=  26.3s\n",
      "[CV] END ...............C=0.01, epsilon=0.01, kernel=sigmoid; total time=  26.0s\n",
      "[CV] END ...............C=0.01, epsilon=0.01, kernel=sigmoid; total time=  26.1s\n",
      "[CV] END ...............C=0.01, epsilon=0.01, kernel=sigmoid; total time=  26.5s\n",
      "[CV] END ...................C=0.01, epsilon=0.1, kernel=poly; total time=  19.2s\n",
      "[CV] END ...................C=0.01, epsilon=0.1, kernel=poly; total time=  19.6s\n",
      "[CV] END ...................C=0.01, epsilon=0.1, kernel=poly; total time=  18.9s\n",
      "[CV] END ...................C=0.01, epsilon=0.1, kernel=poly; total time=  19.1s\n",
      "[CV] END ...................C=0.01, epsilon=0.1, kernel=poly; total time=  18.9s\n",
      "[CV] END ....................C=0.01, epsilon=0.1, kernel=rbf; total time=  15.9s\n",
      "[CV] END ....................C=0.01, epsilon=0.1, kernel=rbf; total time=  16.0s\n",
      "[CV] END ....................C=0.01, epsilon=0.1, kernel=rbf; total time=  15.8s\n",
      "[CV] END ....................C=0.01, epsilon=0.1, kernel=rbf; total time=  16.0s\n",
      "[CV] END ....................C=0.01, epsilon=0.1, kernel=rbf; total time=  16.0s\n",
      "[CV] END ................C=0.01, epsilon=0.1, kernel=sigmoid; total time=  14.3s\n",
      "[CV] END ................C=0.01, epsilon=0.1, kernel=sigmoid; total time=  13.8s\n",
      "[CV] END ................C=0.01, epsilon=0.1, kernel=sigmoid; total time=  13.4s\n",
      "[CV] END ................C=0.01, epsilon=0.1, kernel=sigmoid; total time=  13.7s\n",
      "[CV] END ................C=0.01, epsilon=0.1, kernel=sigmoid; total time=  13.8s\n",
      "[CV] END .....................C=0.01, epsilon=1, kernel=poly; total time=   0.6s\n",
      "[CV] END .....................C=0.01, epsilon=1, kernel=poly; total time=   0.6s\n",
      "[CV] END .....................C=0.01, epsilon=1, kernel=poly; total time=   0.7s\n",
      "[CV] END .....................C=0.01, epsilon=1, kernel=poly; total time=   0.6s\n",
      "[CV] END .....................C=0.01, epsilon=1, kernel=poly; total time=   0.8s\n",
      "[CV] END ......................C=0.01, epsilon=1, kernel=rbf; total time=   0.6s\n",
      "[CV] END ......................C=0.01, epsilon=1, kernel=rbf; total time=   0.6s\n",
      "[CV] END ......................C=0.01, epsilon=1, kernel=rbf; total time=   0.6s\n",
      "[CV] END ......................C=0.01, epsilon=1, kernel=rbf; total time=   0.6s\n",
      "[CV] END ......................C=0.01, epsilon=1, kernel=rbf; total time=   0.6s\n",
      "[CV] END ..................C=0.01, epsilon=1, kernel=sigmoid; total time=   0.3s\n",
      "[CV] END ..................C=0.01, epsilon=1, kernel=sigmoid; total time=   0.3s\n",
      "[CV] END ..................C=0.01, epsilon=1, kernel=sigmoid; total time=   0.4s\n",
      "[CV] END ..................C=0.01, epsilon=1, kernel=sigmoid; total time=   0.3s\n",
      "[CV] END ..................C=0.01, epsilon=1, kernel=sigmoid; total time=   0.3s\n",
      "[CV] END ..................C=0.1, epsilon=0.001, kernel=poly; total time=  27.2s\n",
      "[CV] END ..................C=0.1, epsilon=0.001, kernel=poly; total time=  27.5s\n",
      "[CV] END ..................C=0.1, epsilon=0.001, kernel=poly; total time=  27.2s\n",
      "[CV] END ..................C=0.1, epsilon=0.001, kernel=poly; total time=  27.1s\n",
      "[CV] END ..................C=0.1, epsilon=0.001, kernel=poly; total time=  27.1s\n",
      "[CV] END ...................C=0.1, epsilon=0.001, kernel=rbf; total time=  30.1s\n",
      "[CV] END ...................C=0.1, epsilon=0.001, kernel=rbf; total time=  30.3s\n",
      "[CV] END ...................C=0.1, epsilon=0.001, kernel=rbf; total time=  30.1s\n",
      "[CV] END ...................C=0.1, epsilon=0.001, kernel=rbf; total time=  30.3s\n",
      "[CV] END ...................C=0.1, epsilon=0.001, kernel=rbf; total time=  30.4s\n",
      "[CV] END ...............C=0.1, epsilon=0.001, kernel=sigmoid; total time=  29.0s\n",
      "[CV] END ...............C=0.1, epsilon=0.001, kernel=sigmoid; total time=  29.3s\n",
      "[CV] END ...............C=0.1, epsilon=0.001, kernel=sigmoid; total time=  29.1s\n",
      "[CV] END ...............C=0.1, epsilon=0.001, kernel=sigmoid; total time=  29.5s\n",
      "[CV] END ...............C=0.1, epsilon=0.001, kernel=sigmoid; total time=  29.0s\n",
      "[CV] END ...................C=0.1, epsilon=0.01, kernel=poly; total time=  25.8s\n",
      "[CV] END ...................C=0.1, epsilon=0.01, kernel=poly; total time=  25.9s\n",
      "[CV] END ...................C=0.1, epsilon=0.01, kernel=poly; total time=  25.8s\n",
      "[CV] END ...................C=0.1, epsilon=0.01, kernel=poly; total time=  25.7s\n",
      "[CV] END ...................C=0.1, epsilon=0.01, kernel=poly; total time=  29.9s\n",
      "[CV] END ....................C=0.1, epsilon=0.01, kernel=rbf; total time=  30.8s\n",
      "[CV] END ....................C=0.1, epsilon=0.01, kernel=rbf; total time=  29.9s\n",
      "[CV] END ....................C=0.1, epsilon=0.01, kernel=rbf; total time=  29.6s\n",
      "[CV] END ....................C=0.1, epsilon=0.01, kernel=rbf; total time=  29.2s\n",
      "[CV] END ....................C=0.1, epsilon=0.01, kernel=rbf; total time=  28.9s\n",
      "[CV] END ................C=0.1, epsilon=0.01, kernel=sigmoid; total time=  30.9s\n",
      "[CV] END ................C=0.1, epsilon=0.01, kernel=sigmoid; total time=  31.2s\n",
      "[CV] END ................C=0.1, epsilon=0.01, kernel=sigmoid; total time=  31.0s\n",
      "[CV] END ................C=0.1, epsilon=0.01, kernel=sigmoid; total time=  31.9s\n",
      "[CV] END ................C=0.1, epsilon=0.01, kernel=sigmoid; total time=  31.7s\n",
      "[CV] END ....................C=0.1, epsilon=0.1, kernel=poly; total time=  16.7s\n",
      "[CV] END ....................C=0.1, epsilon=0.1, kernel=poly; total time=  16.6s\n",
      "[CV] END ....................C=0.1, epsilon=0.1, kernel=poly; total time=  16.8s\n",
      "[CV] END ....................C=0.1, epsilon=0.1, kernel=poly; total time=  16.4s\n",
      "[CV] END ....................C=0.1, epsilon=0.1, kernel=poly; total time=  16.9s\n",
      "[CV] END .....................C=0.1, epsilon=0.1, kernel=rbf; total time=   9.9s\n",
      "[CV] END .....................C=0.1, epsilon=0.1, kernel=rbf; total time=   9.9s\n",
      "[CV] END .....................C=0.1, epsilon=0.1, kernel=rbf; total time=  10.1s\n",
      "[CV] END .....................C=0.1, epsilon=0.1, kernel=rbf; total time=   9.9s\n",
      "[CV] END .....................C=0.1, epsilon=0.1, kernel=rbf; total time=   9.9s\n",
      "[CV] END .................C=0.1, epsilon=0.1, kernel=sigmoid; total time=  28.9s\n",
      "[CV] END .................C=0.1, epsilon=0.1, kernel=sigmoid; total time=  28.9s\n",
      "[CV] END .................C=0.1, epsilon=0.1, kernel=sigmoid; total time=  28.7s\n",
      "[CV] END .................C=0.1, epsilon=0.1, kernel=sigmoid; total time=  29.6s\n",
      "[CV] END .................C=0.1, epsilon=0.1, kernel=sigmoid; total time=  29.1s\n",
      "[CV] END ......................C=0.1, epsilon=1, kernel=poly; total time=   0.3s\n",
      "[CV] END ......................C=0.1, epsilon=1, kernel=poly; total time=   0.4s\n",
      "[CV] END ......................C=0.1, epsilon=1, kernel=poly; total time=   0.4s\n",
      "[CV] END ......................C=0.1, epsilon=1, kernel=poly; total time=   0.4s\n",
      "[CV] END ......................C=0.1, epsilon=1, kernel=poly; total time=   0.3s\n",
      "[CV] END .......................C=0.1, epsilon=1, kernel=rbf; total time=   0.3s\n",
      "[CV] END .......................C=0.1, epsilon=1, kernel=rbf; total time=   0.3s\n",
      "[CV] END .......................C=0.1, epsilon=1, kernel=rbf; total time=   0.3s\n",
      "[CV] END .......................C=0.1, epsilon=1, kernel=rbf; total time=   0.3s\n",
      "[CV] END .......................C=0.1, epsilon=1, kernel=rbf; total time=   0.3s\n",
      "[CV] END ...................C=0.1, epsilon=1, kernel=sigmoid; total time=   0.1s\n",
      "[CV] END ...................C=0.1, epsilon=1, kernel=sigmoid; total time=   0.1s\n",
      "[CV] END ...................C=0.1, epsilon=1, kernel=sigmoid; total time=   0.1s\n",
      "[CV] END ...................C=0.1, epsilon=1, kernel=sigmoid; total time=   0.1s\n",
      "[CV] END ...................C=0.1, epsilon=1, kernel=sigmoid; total time=   0.1s\n",
      "[CV] END ....................C=1, epsilon=0.001, kernel=poly; total time=  48.4s\n",
      "[CV] END ....................C=1, epsilon=0.001, kernel=poly; total time=  42.9s\n",
      "[CV] END ....................C=1, epsilon=0.001, kernel=poly; total time=  47.0s\n",
      "[CV] END ....................C=1, epsilon=0.001, kernel=poly; total time=  47.7s\n",
      "[CV] END ....................C=1, epsilon=0.001, kernel=poly; total time=  47.8s\n",
      "[CV] END .....................C=1, epsilon=0.001, kernel=rbf; total time=  59.8s\n",
      "[CV] END .....................C=1, epsilon=0.001, kernel=rbf; total time=  59.1s\n",
      "[CV] END .....................C=1, epsilon=0.001, kernel=rbf; total time=  56.0s\n",
      "[CV] END .....................C=1, epsilon=0.001, kernel=rbf; total time=  56.8s\n",
      "[CV] END .....................C=1, epsilon=0.001, kernel=rbf; total time=  57.5s\n",
      "[CV] END .................C=1, epsilon=0.001, kernel=sigmoid; total time=  31.0s\n",
      "[CV] END .................C=1, epsilon=0.001, kernel=sigmoid; total time=  31.4s\n",
      "[CV] END .................C=1, epsilon=0.001, kernel=sigmoid; total time=  30.5s\n",
      "[CV] END .................C=1, epsilon=0.001, kernel=sigmoid; total time=  31.5s\n",
      "[CV] END .................C=1, epsilon=0.001, kernel=sigmoid; total time=  31.0s\n",
      "[CV] END .....................C=1, epsilon=0.01, kernel=poly; total time=  33.1s\n",
      "[CV] END .....................C=1, epsilon=0.01, kernel=poly; total time=  30.7s\n",
      "[CV] END .....................C=1, epsilon=0.01, kernel=poly; total time=  32.6s\n",
      "[CV] END .....................C=1, epsilon=0.01, kernel=poly; total time=  30.0s\n",
      "[CV] END .....................C=1, epsilon=0.01, kernel=poly; total time=  30.5s\n",
      "[CV] END ......................C=1, epsilon=0.01, kernel=rbf; total time=  40.4s\n",
      "[CV] END ......................C=1, epsilon=0.01, kernel=rbf; total time=  40.0s\n",
      "[CV] END ......................C=1, epsilon=0.01, kernel=rbf; total time=  39.1s\n",
      "[CV] END ......................C=1, epsilon=0.01, kernel=rbf; total time=  41.0s\n",
      "[CV] END ......................C=1, epsilon=0.01, kernel=rbf; total time=  41.3s\n",
      "[CV] END ..................C=1, epsilon=0.01, kernel=sigmoid; total time=  32.4s\n",
      "[CV] END ..................C=1, epsilon=0.01, kernel=sigmoid; total time=  31.9s\n",
      "[CV] END ..................C=1, epsilon=0.01, kernel=sigmoid; total time=  31.8s\n",
      "[CV] END ..................C=1, epsilon=0.01, kernel=sigmoid; total time=  32.0s\n",
      "[CV] END ..................C=1, epsilon=0.01, kernel=sigmoid; total time=  33.3s\n",
      "[CV] END ......................C=1, epsilon=0.1, kernel=poly; total time=  13.9s\n",
      "[CV] END ......................C=1, epsilon=0.1, kernel=poly; total time=  13.9s\n",
      "[CV] END ......................C=1, epsilon=0.1, kernel=poly; total time=  13.8s\n",
      "[CV] END ......................C=1, epsilon=0.1, kernel=poly; total time=  13.9s\n",
      "[CV] END ......................C=1, epsilon=0.1, kernel=poly; total time=  14.3s\n",
      "[CV] END .......................C=1, epsilon=0.1, kernel=rbf; total time=   8.5s\n",
      "[CV] END .......................C=1, epsilon=0.1, kernel=rbf; total time=   8.5s\n",
      "[CV] END .......................C=1, epsilon=0.1, kernel=rbf; total time=   8.8s\n",
      "[CV] END .......................C=1, epsilon=0.1, kernel=rbf; total time=   8.6s\n",
      "[CV] END .......................C=1, epsilon=0.1, kernel=rbf; total time=   8.5s\n",
      "[CV] END ...................C=1, epsilon=0.1, kernel=sigmoid; total time=  29.2s\n",
      "[CV] END ...................C=1, epsilon=0.1, kernel=sigmoid; total time=  29.2s\n",
      "[CV] END ...................C=1, epsilon=0.1, kernel=sigmoid; total time=  30.3s\n",
      "[CV] END ...................C=1, epsilon=0.1, kernel=sigmoid; total time=  28.8s\n",
      "[CV] END ...................C=1, epsilon=0.1, kernel=sigmoid; total time=  30.9s\n",
      "[CV] END ........................C=1, epsilon=1, kernel=poly; total time=   0.3s\n",
      "[CV] END ........................C=1, epsilon=1, kernel=poly; total time=   0.3s\n",
      "[CV] END ........................C=1, epsilon=1, kernel=poly; total time=   0.3s\n",
      "[CV] END ........................C=1, epsilon=1, kernel=poly; total time=   0.3s\n",
      "[CV] END ........................C=1, epsilon=1, kernel=poly; total time=   0.3s\n",
      "[CV] END .........................C=1, epsilon=1, kernel=rbf; total time=   0.2s\n",
      "[CV] END .........................C=1, epsilon=1, kernel=rbf; total time=   0.3s\n",
      "[CV] END .........................C=1, epsilon=1, kernel=rbf; total time=   0.2s\n",
      "[CV] END .........................C=1, epsilon=1, kernel=rbf; total time=   0.2s\n",
      "[CV] END .........................C=1, epsilon=1, kernel=rbf; total time=   0.5s\n",
      "[CV] END .....................C=1, epsilon=1, kernel=sigmoid; total time=   0.1s\n",
      "[CV] END .....................C=1, epsilon=1, kernel=sigmoid; total time=   0.1s\n",
      "[CV] END .....................C=1, epsilon=1, kernel=sigmoid; total time=   0.1s\n",
      "[CV] END .....................C=1, epsilon=1, kernel=sigmoid; total time=   0.1s\n",
      "[CV] END .....................C=1, epsilon=1, kernel=sigmoid; total time=   0.1s\n",
      "Miglior hyperparametro {'C': 1, 'epsilon': 0.001, 'kernel': 'rbf'}\n"
     ]
    }
   ],
   "source": [
    "svr= SVR()\n",
    "\n",
    "param_grid= {\n",
    "    'kernel': ['poly', 'rbf', 'sigmoid'],\n",
    "    'epsilon': [0.001, 0.01, 0.1, 1],\n",
    "    'C': [0.001, 0.01, 0.1, 1]\n",
    "}\n",
    "\n",
    "grid_search= GridSearchCV(estimator= svr, param_grid= param_grid, cv=5, scoring='neg_mean_squared_error', verbose= 2)\n",
    "grid_search.fit(X_train, y_train)\n",
    "best_param= grid_search.best_params_\n",
    "print(\"Miglior hyperparametro\", best_param)"
   ]
  },
  {
   "cell_type": "code",
   "execution_count": 109,
   "metadata": {},
   "outputs": [],
   "source": [
    "if pca_t == True:\n",
    "    pd.DataFrame(grid_search.cv_results_).to_csv(f\"tradML/risultati_cv/pca/svr.csv\")\n",
    "else:\n",
    "    pd.DataFrame(grid_search.cv_results_).to_csv(f\"tradML/risultati_cv/no_pca/svr.csv\")"
   ]
  },
  {
   "cell_type": "code",
   "execution_count": 110,
   "metadata": {},
   "outputs": [],
   "source": [
    "results= pd.DataFrame(grid_search.cv_results_)\n",
    "results= results[['mean_test_score', 'param_kernel', 'param_epsilon', 'param_C']]\n",
    "results['mean_test_score']= -1*results['mean_test_score']\n",
    "\n",
    "if pca_t == True:\n",
    "    writer= SummaryWriter(f'risultati/Machine_Learning_trad/pca/SVR/')\n",
    "else:\n",
    "    writer= SummaryWriter(f'risultati/Machine_Learning_trad/no_pca/SVR/')\n",
    "for i, rows in results.iterrows():\n",
    "    mse= rows['mean_test_score']\n",
    "    kernel= rows['param_kernel']\n",
    "    epsilon= rows['param_epsilon']\n",
    "    c= rows['param_C']\n",
    "    writer.add_hparams({'C': c, 'epsilon': epsilon, 'kernel': kernel}, {'mse': mse})\n",
    "    writer.flush()\n",
    "writer.close()"
   ]
  },
  {
   "cell_type": "code",
   "execution_count": 111,
   "metadata": {},
   "outputs": [],
   "source": [
    "svr= pd.DataFrame.from_dict(grid_search.best_params_, orient='index', columns=['value'])\n",
    "svr= svr.T\n",
    "if pca_t == True:\n",
    "    svr.to_csv('tradML/b_params/pca/svr.csv', index=False)\n",
    "else:\n",
    "    svr.to_csv('tradML/b_params/no_pca/svr.csv', index=False)"
   ]
  },
  {
   "cell_type": "code",
   "execution_count": 112,
   "metadata": {},
   "outputs": [
    {
     "name": "stdout",
     "output_type": "stream",
     "text": [
      "Mean squared error:  0.00659967092004883\n",
      "R2 score:  0.9702269715302189\n"
     ]
    }
   ],
   "source": [
    "svr= SVR(kernel= best_param['kernel'], epsilon= best_param['epsilon'], C= best_param['C'])\n",
    "svr.fit(X_train, y_train)\n",
    "y_pred= svr.predict(X_test)\n",
    "\n",
    "print(\"Mean squared error: \", mean_squared_error(y_test, y_pred))\n",
    "print(\"R2 score: \", r2_score(y_test, y_pred))"
   ]
  }
 ],
 "metadata": {
  "kernelspec": {
   "display_name": "Python 3",
   "language": "python",
   "name": "python3"
  },
  "language_info": {
   "codemirror_mode": {
    "name": "ipython",
    "version": 3
   },
   "file_extension": ".py",
   "mimetype": "text/x-python",
   "name": "python",
   "nbconvert_exporter": "python",
   "pygments_lexer": "ipython3",
   "version": "3.9.13"
  },
  "orig_nbformat": 4
 },
 "nbformat": 4,
 "nbformat_minor": 2
}
